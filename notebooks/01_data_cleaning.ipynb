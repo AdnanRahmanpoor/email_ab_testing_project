{
 "cells": [
  {
   "cell_type": "markdown",
   "id": "2e91dc75",
   "metadata": {},
   "source": [
    "# A/B Email Campaign Testing Project\n",
    "## Data Cleaning\n",
    "\n",
    "Import Libraries"
   ]
  },
  {
   "cell_type": "code",
   "execution_count": 4,
   "id": "1cefcefd",
   "metadata": {},
   "outputs": [],
   "source": [
    "import numpy as np\n",
    "import pandas as pd"
   ]
  },
  {
   "cell_type": "markdown",
   "id": "98fbbcc6",
   "metadata": {},
   "source": [
    "Loading Dataset"
   ]
  },
  {
   "cell_type": "code",
   "execution_count": 7,
   "id": "187dae99",
   "metadata": {},
   "outputs": [],
   "source": [
    "# Load the dataset and parse dates in proper format\n",
    "df = pd.read_csv('../data/raw/email_campaign_data.csv', parse_dates=['timestamp'])"
   ]
  },
  {
   "cell_type": "markdown",
   "id": "9817e0eb",
   "metadata": {},
   "source": [
    "View Data"
   ]
  },
  {
   "cell_type": "code",
   "execution_count": 8,
   "id": "7f9f284f",
   "metadata": {},
   "outputs": [
    {
     "data": {
      "text/html": [
       "<div>\n",
       "<style scoped>\n",
       "    .dataframe tbody tr th:only-of-type {\n",
       "        vertical-align: middle;\n",
       "    }\n",
       "\n",
       "    .dataframe tbody tr th {\n",
       "        vertical-align: top;\n",
       "    }\n",
       "\n",
       "    .dataframe thead th {\n",
       "        text-align: right;\n",
       "    }\n",
       "</style>\n",
       "<table border=\"1\" class=\"dataframe\">\n",
       "  <thead>\n",
       "    <tr style=\"text-align: right;\">\n",
       "      <th></th>\n",
       "      <th>user_id</th>\n",
       "      <th>variant</th>\n",
       "      <th>send_time</th>\n",
       "      <th>content_layout</th>\n",
       "      <th>account_age</th>\n",
       "      <th>feature_usage</th>\n",
       "      <th>user_segment</th>\n",
       "      <th>open</th>\n",
       "      <th>click</th>\n",
       "      <th>convert</th>\n",
       "      <th>timestamp</th>\n",
       "      <th>device</th>\n",
       "    </tr>\n",
       "  </thead>\n",
       "  <tbody>\n",
       "    <tr>\n",
       "      <th>0</th>\n",
       "      <td>1</td>\n",
       "      <td>A</td>\n",
       "      <td>afternoon</td>\n",
       "      <td>text-heavy</td>\n",
       "      <td>216.0</td>\n",
       "      <td>48.0</td>\n",
       "      <td>active</td>\n",
       "      <td>1.0</td>\n",
       "      <td>1.0</td>\n",
       "      <td>0.0</td>\n",
       "      <td>2023-04-01 16:04:01</td>\n",
       "      <td>desktop</td>\n",
       "    </tr>\n",
       "    <tr>\n",
       "      <th>1</th>\n",
       "      <td>2</td>\n",
       "      <td>B</td>\n",
       "      <td>morning</td>\n",
       "      <td>text-heavy</td>\n",
       "      <td>1.0</td>\n",
       "      <td>20.0</td>\n",
       "      <td>new</td>\n",
       "      <td>1.0</td>\n",
       "      <td>1.0</td>\n",
       "      <td>0.0</td>\n",
       "      <td>2023-04-14 09:26:41</td>\n",
       "      <td>desktop</td>\n",
       "    </tr>\n",
       "    <tr>\n",
       "      <th>2</th>\n",
       "      <td>3</td>\n",
       "      <td>A</td>\n",
       "      <td>morning</td>\n",
       "      <td>balanced</td>\n",
       "      <td>357.0</td>\n",
       "      <td>47.0</td>\n",
       "      <td>active</td>\n",
       "      <td>0.0</td>\n",
       "      <td>0.0</td>\n",
       "      <td>0.0</td>\n",
       "      <td>2023-04-14 08:32:52</td>\n",
       "      <td>desktop</td>\n",
       "    </tr>\n",
       "    <tr>\n",
       "      <th>3</th>\n",
       "      <td>4</td>\n",
       "      <td>A</td>\n",
       "      <td>evening</td>\n",
       "      <td>balanced</td>\n",
       "      <td>262.0</td>\n",
       "      <td>33.0</td>\n",
       "      <td>active</td>\n",
       "      <td>1.0</td>\n",
       "      <td>1.0</td>\n",
       "      <td>0.0</td>\n",
       "      <td>2023-04-03 20:44:07</td>\n",
       "      <td>mobile</td>\n",
       "    </tr>\n",
       "    <tr>\n",
       "      <th>4</th>\n",
       "      <td>5</td>\n",
       "      <td>A</td>\n",
       "      <td>morning</td>\n",
       "      <td>visual-heavy</td>\n",
       "      <td>73.0</td>\n",
       "      <td>8.0</td>\n",
       "      <td>active</td>\n",
       "      <td>0.0</td>\n",
       "      <td>0.0</td>\n",
       "      <td>0.0</td>\n",
       "      <td>2023-04-12 11:52:06</td>\n",
       "      <td>desktop</td>\n",
       "    </tr>\n",
       "  </tbody>\n",
       "</table>\n",
       "</div>"
      ],
      "text/plain": [
       "   user_id variant  send_time content_layout  account_age  feature_usage  \\\n",
       "0        1       A  afternoon     text-heavy        216.0           48.0   \n",
       "1        2       B    morning     text-heavy          1.0           20.0   \n",
       "2        3       A    morning       balanced        357.0           47.0   \n",
       "3        4       A    evening       balanced        262.0           33.0   \n",
       "4        5       A    morning   visual-heavy         73.0            8.0   \n",
       "\n",
       "  user_segment  open  click  convert           timestamp   device  \n",
       "0       active   1.0    1.0      0.0 2023-04-01 16:04:01  desktop  \n",
       "1          new   1.0    1.0      0.0 2023-04-14 09:26:41  desktop  \n",
       "2       active   0.0    0.0      0.0 2023-04-14 08:32:52  desktop  \n",
       "3       active   1.0    1.0      0.0 2023-04-03 20:44:07   mobile  \n",
       "4       active   0.0    0.0      0.0 2023-04-12 11:52:06  desktop  "
      ]
     },
     "execution_count": 8,
     "metadata": {},
     "output_type": "execute_result"
    }
   ],
   "source": [
    "df.head()"
   ]
  },
  {
   "cell_type": "code",
   "execution_count": 11,
   "id": "d34a959b",
   "metadata": {},
   "outputs": [
    {
     "name": "stdout",
     "output_type": "stream",
     "text": [
      "Rows, Columns\n"
     ]
    },
    {
     "data": {
      "text/plain": [
       "(515000, 12)"
      ]
     },
     "execution_count": 11,
     "metadata": {},
     "output_type": "execute_result"
    }
   ],
   "source": [
    "print(\"Rows, Columns\")\n",
    "df.shape"
   ]
  },
  {
   "cell_type": "code",
   "execution_count": 12,
   "id": "d14a06d2",
   "metadata": {},
   "outputs": [
    {
     "name": "stdout",
     "output_type": "stream",
     "text": [
      "<class 'pandas.core.frame.DataFrame'>\n",
      "RangeIndex: 515000 entries, 0 to 514999\n",
      "Data columns (total 12 columns):\n",
      " #   Column          Non-Null Count   Dtype         \n",
      "---  ------          --------------   -----         \n",
      " 0   user_id         515000 non-null  int64         \n",
      " 1   variant         515000 non-null  object        \n",
      " 2   send_time       515000 non-null  object        \n",
      " 3   content_layout  515000 non-null  object        \n",
      " 4   account_age     504698 non-null  float64       \n",
      " 5   feature_usage   509837 non-null  float64       \n",
      " 6   user_segment    512443 non-null  object        \n",
      " 7   open            513681 non-null  float64       \n",
      " 8   click           515000 non-null  float64       \n",
      " 9   convert         515000 non-null  float64       \n",
      " 10  timestamp       515000 non-null  datetime64[ns]\n",
      " 11  device          515000 non-null  object        \n",
      "dtypes: datetime64[ns](1), float64(5), int64(1), object(5)\n",
      "memory usage: 47.1+ MB\n"
     ]
    }
   ],
   "source": [
    "df.info()"
   ]
  },
  {
   "cell_type": "markdown",
   "id": "0382fb97",
   "metadata": {},
   "source": [
    "Handling Missing Data"
   ]
  },
  {
   "cell_type": "code",
   "execution_count": 13,
   "id": "6b9bb587",
   "metadata": {},
   "outputs": [
    {
     "data": {
      "text/plain": [
       "user_id               0\n",
       "variant               0\n",
       "send_time             0\n",
       "content_layout        0\n",
       "account_age       10302\n",
       "feature_usage      5163\n",
       "user_segment       2557\n",
       "open               1319\n",
       "click                 0\n",
       "convert               0\n",
       "timestamp             0\n",
       "device                0\n",
       "dtype: int64"
      ]
     },
     "execution_count": 13,
     "metadata": {},
     "output_type": "execute_result"
    }
   ],
   "source": [
    "df.isnull().sum()"
   ]
  },
  {
   "cell_type": "code",
   "execution_count": 14,
   "id": "d00c90f0",
   "metadata": {},
   "outputs": [],
   "source": [
    "# Handle missing data for account_age and feature_usage using median value\n",
    "df['account_age'] = df['account_age'].fillna(df['account_age'].median())\n",
    "df['feature_usage'] = df['feature_usage'].fillna(df['feature_usage'].median())"
   ]
  },
  {
   "cell_type": "code",
   "execution_count": 15,
   "id": "9732e841",
   "metadata": {},
   "outputs": [],
   "source": [
    "# for user_segment we will replace with unknown\n",
    "df['user_segment'] = df['user_segment'].fillna('unknown')"
   ]
  },
  {
   "cell_type": "code",
   "execution_count": 16,
   "id": "cb630eea",
   "metadata": {},
   "outputs": [],
   "source": [
    "# For email open we will assume non-tracked as non-opened (replace with 0)\n",
    "df['open'] = df['open'].fillna(0)"
   ]
  },
  {
   "cell_type": "code",
   "execution_count": 17,
   "id": "f9a8feff",
   "metadata": {},
   "outputs": [
    {
     "data": {
      "text/plain": [
       "user_id           0\n",
       "variant           0\n",
       "send_time         0\n",
       "content_layout    0\n",
       "account_age       0\n",
       "feature_usage     0\n",
       "user_segment      0\n",
       "open              0\n",
       "click             0\n",
       "convert           0\n",
       "timestamp         0\n",
       "device            0\n",
       "dtype: int64"
      ]
     },
     "execution_count": 17,
     "metadata": {},
     "output_type": "execute_result"
    }
   ],
   "source": [
    "# Recheck null values\n",
    "df.isnull().sum()"
   ]
  },
  {
   "cell_type": "markdown",
   "id": "cf80c5da",
   "metadata": {},
   "source": [
    "Removing duplicates if available"
   ]
  },
  {
   "cell_type": "code",
   "execution_count": 18,
   "id": "65732791",
   "metadata": {},
   "outputs": [
    {
     "data": {
      "text/plain": [
       "np.int64(15000)"
      ]
     },
     "execution_count": 18,
     "metadata": {},
     "output_type": "execute_result"
    }
   ],
   "source": [
    "df.duplicated(subset=['user_id', 'timestamp']).sum()"
   ]
  },
  {
   "cell_type": "code",
   "execution_count": 19,
   "id": "80904274",
   "metadata": {},
   "outputs": [
    {
     "data": {
      "text/plain": [
       "np.int64(0)"
      ]
     },
     "execution_count": 19,
     "metadata": {},
     "output_type": "execute_result"
    }
   ],
   "source": [
    "# Remove 15000 duplicates\n",
    "df = df.drop_duplicates(subset=['user_id', 'timestamp'], keep='first')\n",
    "\n",
    "df.duplicated(subset=['user_id', 'timestamp']).sum()"
   ]
  },
  {
   "cell_type": "markdown",
   "id": "7592b6e9",
   "metadata": {},
   "source": [
    "Data Validation"
   ]
  },
  {
   "cell_type": "code",
   "execution_count": 21,
   "id": "2b915758",
   "metadata": {},
   "outputs": [
    {
     "name": "stdout",
     "output_type": "stream",
     "text": [
      "Data types before:\n",
      " user_id                    int64\n",
      "variant                   object\n",
      "send_time                 object\n",
      "content_layout            object\n",
      "account_age              float64\n",
      "feature_usage            float64\n",
      "user_segment              object\n",
      "open                       int64\n",
      "click                      int64\n",
      "convert                    int64\n",
      "timestamp         datetime64[ns]\n",
      "device                    object\n",
      "dtype: object\n",
      "Date types after:\n",
      " user_id                    int64\n",
      "variant                   object\n",
      "send_time                 object\n",
      "content_layout            object\n",
      "account_age              float64\n",
      "feature_usage            float64\n",
      "user_segment              object\n",
      "open                       int64\n",
      "click                      int64\n",
      "convert                    int64\n",
      "timestamp         datetime64[ns]\n",
      "device                    object\n",
      "dtype: object\n"
     ]
    }
   ],
   "source": [
    "print(\"Data types before:\\n\", df.dtypes)\n",
    "df['user_id'] = df['user_id'].astype(int)\n",
    "df['variant'] = df['variant'].astype(str)\n",
    "df['send_time'] = df['send_time'].astype(str)\n",
    "df['content_layout'] = df['content_layout'].astype(str)\n",
    "df['user_segment'] = df['user_segment'].astype(str)\n",
    "df['device'] = df['device'].astype(str)\n",
    "df['open'] = df['open'].astype(int)\n",
    "df['click'] = df['click'].astype(int)\n",
    "df['convert'] = df['convert'].astype(int)\n",
    "\n",
    "print(\"Date types after:\\n\", df.dtypes)"
   ]
  },
  {
   "cell_type": "markdown",
   "id": "23a7d631",
   "metadata": {},
   "source": [
    "Handling Invalid Timestamps"
   ]
  },
  {
   "cell_type": "code",
   "execution_count": 23,
   "id": "9a253092",
   "metadata": {},
   "outputs": [
    {
     "data": {
      "text/plain": [
       "np.int64(0)"
      ]
     },
     "execution_count": 23,
     "metadata": {},
     "output_type": "execute_result"
    }
   ],
   "source": [
    "df['timestamp'].isna().sum()\n",
    "\n",
    "# if there is invalid timestamps we will handle them as follows (uncomment)\n",
    "# invalid_timestamps = df['timestamp'].isna().sum()\n",
    "\n",
    "# if invalid_timestamps > 0:\n",
    "#     print(f'Found {invalid_timestamps} invalid timestamps. Filling with median timestamp...')\n",
    "#     df['timestamp'] = df['timestamp'].fillna(df['timestamp'].median())"
   ]
  },
  {
   "cell_type": "markdown",
   "id": "063c75bd",
   "metadata": {},
   "source": [
    "Saving Cleaned CSV for Analysis"
   ]
  },
  {
   "cell_type": "code",
   "execution_count": 24,
   "id": "a045dee2",
   "metadata": {},
   "outputs": [],
   "source": [
    "df.to_csv('../data/processed/cleaned_email_data.csv', index=False)"
   ]
  }
 ],
 "metadata": {
  "kernelspec": {
   "display_name": "da",
   "language": "python",
   "name": "python3"
  },
  "language_info": {
   "codemirror_mode": {
    "name": "ipython",
    "version": 3
   },
   "file_extension": ".py",
   "mimetype": "text/x-python",
   "name": "python",
   "nbconvert_exporter": "python",
   "pygments_lexer": "ipython3",
   "version": "3.12.3"
  }
 },
 "nbformat": 4,
 "nbformat_minor": 5
}
