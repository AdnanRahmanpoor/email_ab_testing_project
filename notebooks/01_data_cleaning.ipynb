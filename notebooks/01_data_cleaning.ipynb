{
 "cells": [
  {
   "cell_type": "markdown",
   "id": "2e91dc75",
   "metadata": {},
   "source": [
    "# A/B Email Campaign Testing Project\n",
    "## Data Cleaning\n",
    "\n",
    "Import Libraries"
   ]
  },
  {
   "cell_type": "code",
   "execution_count": 4,
   "id": "1cefcefd",
   "metadata": {},
   "outputs": [],
   "source": [
    "import numpy as np\n",
    "import pandas as pd"
   ]
  },
  {
   "cell_type": "markdown",
   "id": "98fbbcc6",
   "metadata": {},
   "source": [
    "Loading Dataset"
   ]
  },
  {
   "cell_type": "code",
   "execution_count": 7,
   "id": "187dae99",
   "metadata": {},
   "outputs": [],
   "source": [
    "# Load the dataset and parse dates in proper format\n",
    "df = pd.read_csv('../data/raw/email_campaign_data.csv', parse_dates=['timestamp'])"
   ]
  },
  {
   "cell_type": "markdown",
   "id": "9817e0eb",
   "metadata": {},
   "source": [
    "View Data"
   ]
  },
  {
   "cell_type": "code",
   "execution_count": 8,
   "id": "7f9f284f",
   "metadata": {},
   "outputs": [
    {
     "data": {
      "text/html": [
       "<div>\n",
       "<style scoped>\n",
       "    .dataframe tbody tr th:only-of-type {\n",
       "        vertical-align: middle;\n",
       "    }\n",
       "\n",
       "    .dataframe tbody tr th {\n",
       "        vertical-align: top;\n",
       "    }\n",
       "\n",
       "    .dataframe thead th {\n",
       "        text-align: right;\n",
       "    }\n",
       "</style>\n",
       "<table border=\"1\" class=\"dataframe\">\n",
       "  <thead>\n",
       "    <tr style=\"text-align: right;\">\n",
       "      <th></th>\n",
       "      <th>user_id</th>\n",
       "      <th>variant</th>\n",
       "      <th>send_time</th>\n",
       "      <th>content_layout</th>\n",
       "      <th>account_age</th>\n",
       "      <th>feature_usage</th>\n",
       "      <th>user_segment</th>\n",
       "      <th>open</th>\n",
       "      <th>click</th>\n",
       "      <th>convert</th>\n",
       "      <th>timestamp</th>\n",
       "      <th>device</th>\n",
       "    </tr>\n",
       "  </thead>\n",
       "  <tbody>\n",
       "    <tr>\n",
       "      <th>0</th>\n",
       "      <td>1</td>\n",
       "      <td>A</td>\n",
       "      <td>afternoon</td>\n",
       "      <td>text-heavy</td>\n",
       "      <td>216.0</td>\n",
       "      <td>48.0</td>\n",
       "      <td>active</td>\n",
       "      <td>1.0</td>\n",
       "      <td>1.0</td>\n",
       "      <td>0.0</td>\n",
       "      <td>2023-04-01 16:04:01</td>\n",
       "      <td>desktop</td>\n",
       "    </tr>\n",
       "    <tr>\n",
       "      <th>1</th>\n",
       "      <td>2</td>\n",
       "      <td>B</td>\n",
       "      <td>morning</td>\n",
       "      <td>text-heavy</td>\n",
       "      <td>1.0</td>\n",
       "      <td>20.0</td>\n",
       "      <td>new</td>\n",
       "      <td>1.0</td>\n",
       "      <td>1.0</td>\n",
       "      <td>0.0</td>\n",
       "      <td>2023-04-14 09:26:41</td>\n",
       "      <td>desktop</td>\n",
       "    </tr>\n",
       "    <tr>\n",
       "      <th>2</th>\n",
       "      <td>3</td>\n",
       "      <td>A</td>\n",
       "      <td>morning</td>\n",
       "      <td>balanced</td>\n",
       "      <td>357.0</td>\n",
       "      <td>47.0</td>\n",
       "      <td>active</td>\n",
       "      <td>0.0</td>\n",
       "      <td>0.0</td>\n",
       "      <td>0.0</td>\n",
       "      <td>2023-04-14 08:32:52</td>\n",
       "      <td>desktop</td>\n",
       "    </tr>\n",
       "    <tr>\n",
       "      <th>3</th>\n",
       "      <td>4</td>\n",
       "      <td>A</td>\n",
       "      <td>evening</td>\n",
       "      <td>balanced</td>\n",
       "      <td>262.0</td>\n",
       "      <td>33.0</td>\n",
       "      <td>active</td>\n",
       "      <td>1.0</td>\n",
       "      <td>1.0</td>\n",
       "      <td>0.0</td>\n",
       "      <td>2023-04-03 20:44:07</td>\n",
       "      <td>mobile</td>\n",
       "    </tr>\n",
       "    <tr>\n",
       "      <th>4</th>\n",
       "      <td>5</td>\n",
       "      <td>A</td>\n",
       "      <td>morning</td>\n",
       "      <td>visual-heavy</td>\n",
       "      <td>73.0</td>\n",
       "      <td>8.0</td>\n",
       "      <td>active</td>\n",
       "      <td>0.0</td>\n",
       "      <td>0.0</td>\n",
       "      <td>0.0</td>\n",
       "      <td>2023-04-12 11:52:06</td>\n",
       "      <td>desktop</td>\n",
       "    </tr>\n",
       "  </tbody>\n",
       "</table>\n",
       "</div>"
      ],
      "text/plain": [
       "   user_id variant  send_time content_layout  account_age  feature_usage  \\\n",
       "0        1       A  afternoon     text-heavy        216.0           48.0   \n",
       "1        2       B    morning     text-heavy          1.0           20.0   \n",
       "2        3       A    morning       balanced        357.0           47.0   \n",
       "3        4       A    evening       balanced        262.0           33.0   \n",
       "4        5       A    morning   visual-heavy         73.0            8.0   \n",
       "\n",
       "  user_segment  open  click  convert           timestamp   device  \n",
       "0       active   1.0    1.0      0.0 2023-04-01 16:04:01  desktop  \n",
       "1          new   1.0    1.0      0.0 2023-04-14 09:26:41  desktop  \n",
       "2       active   0.0    0.0      0.0 2023-04-14 08:32:52  desktop  \n",
       "3       active   1.0    1.0      0.0 2023-04-03 20:44:07   mobile  \n",
       "4       active   0.0    0.0      0.0 2023-04-12 11:52:06  desktop  "
      ]
     },
     "execution_count": 8,
     "metadata": {},
     "output_type": "execute_result"
    }
   ],
   "source": [
    "df.head()"
   ]
  },
  {
   "cell_type": "code",
   "execution_count": 11,
   "id": "d34a959b",
   "metadata": {},
   "outputs": [
    {
     "name": "stdout",
     "output_type": "stream",
     "text": [
      "Rows, Columns\n"
     ]
    },
    {
     "data": {
      "text/plain": [
       "(515000, 12)"
      ]
     },
     "execution_count": 11,
     "metadata": {},
     "output_type": "execute_result"
    }
   ],
   "source": [
    "print(\"Rows, Columns\")\n",
    "df.shape"
   ]
  },
  {
   "cell_type": "code",
   "execution_count": 12,
   "id": "d14a06d2",
   "metadata": {},
   "outputs": [
    {
     "name": "stdout",
     "output_type": "stream",
     "text": [
      "<class 'pandas.core.frame.DataFrame'>\n",
      "RangeIndex: 515000 entries, 0 to 514999\n",
      "Data columns (total 12 columns):\n",
      " #   Column          Non-Null Count   Dtype         \n",
      "---  ------          --------------   -----         \n",
      " 0   user_id         515000 non-null  int64         \n",
      " 1   variant         515000 non-null  object        \n",
      " 2   send_time       515000 non-null  object        \n",
      " 3   content_layout  515000 non-null  object        \n",
      " 4   account_age     504698 non-null  float64       \n",
      " 5   feature_usage   509837 non-null  float64       \n",
      " 6   user_segment    512443 non-null  object        \n",
      " 7   open            513681 non-null  float64       \n",
      " 8   click           515000 non-null  float64       \n",
      " 9   convert         515000 non-null  float64       \n",
      " 10  timestamp       515000 non-null  datetime64[ns]\n",
      " 11  device          515000 non-null  object        \n",
      "dtypes: datetime64[ns](1), float64(5), int64(1), object(5)\n",
      "memory usage: 47.1+ MB\n"
     ]
    }
   ],
   "source": [
    "df.info()"
   ]
  },
  {
   "cell_type": "code",
   "execution_count": null,
   "id": "6b9bb587",
   "metadata": {},
   "outputs": [],
   "source": []
  }
 ],
 "metadata": {
  "kernelspec": {
   "display_name": "da",
   "language": "python",
   "name": "python3"
  },
  "language_info": {
   "codemirror_mode": {
    "name": "ipython",
    "version": 3
   },
   "file_extension": ".py",
   "mimetype": "text/x-python",
   "name": "python",
   "nbconvert_exporter": "python",
   "pygments_lexer": "ipython3",
   "version": "3.12.3"
  }
 },
 "nbformat": 4,
 "nbformat_minor": 5
}
